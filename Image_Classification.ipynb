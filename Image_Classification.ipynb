{
 "cells": [
  {
   "cell_type": "markdown",
   "id": "116e94bb",
   "metadata": {},
   "source": [
    "# Image Classification using CNN"
   ]
  },
  {
   "cell_type": "code",
   "execution_count": 1,
   "id": "6c6f2ac1",
   "metadata": {},
   "outputs": [],
   "source": [
    "from tensorflow.compat.v1 import ConfigProto\n",
    "from tensorflow.compat.v1 import InteractiveSession\n",
    "\n",
    "config = ConfigProto()\n",
    "config.gpu_options.per_process_gpu_memory_fraction = 0.5\n",
    "config.gpu_options.allow_growth = True\n",
    "session = InteractiveSession(config=config)"
   ]
  },
  {
   "cell_type": "code",
   "execution_count": 2,
   "id": "9ca3f0ad",
   "metadata": {},
   "outputs": [],
   "source": [
    "# Convolutional Neural Network\n",
    "\n",
    "\n",
    "# Importing the libraries\n",
    "import tensorflow as tf\n",
    "from tensorflow.keras.preprocessing.image import ImageDataGenerator"
   ]
  },
  {
   "cell_type": "code",
   "execution_count": 3,
   "id": "cc581ac0",
   "metadata": {},
   "outputs": [
    {
     "data": {
      "text/plain": [
       "'2.3.0'"
      ]
     },
     "execution_count": 3,
     "metadata": {},
     "output_type": "execute_result"
    }
   ],
   "source": [
    "tf.__version__"
   ]
  },
  {
   "cell_type": "code",
   "execution_count": 4,
   "id": "8bbca473",
   "metadata": {},
   "outputs": [],
   "source": [
    "# Part 1 - Data Preprocessing\n",
    "\n",
    "# Preprocessing the Training set\n",
    "train_datagen = ImageDataGenerator(rescale = 1./255,\n",
    "                                   shear_range = 0.2,\n",
    "                                   zoom_range = 0.2,\n",
    "                                   horizontal_flip = True)\n"
   ]
  },
  {
   "cell_type": "code",
   "execution_count": 5,
   "id": "49e03d38",
   "metadata": {},
   "outputs": [
    {
     "name": "stdout",
     "output_type": "stream",
     "text": [
      "Found 722 images belonging to 3 classes.\n",
      "Found 178 images belonging to 3 classes.\n"
     ]
    }
   ],
   "source": [
    "training_set = train_datagen.flow_from_directory('C:\\\\Users\\\\DELL\\\\Desktop\\\\Internship\\\\Image Scraping and Classification Project\\\\train',\n",
    "                                                 target_size = (64, 64),\n",
    "                                                 batch_size = 32,\n",
    "                                                 class_mode = 'categorical')\n",
    "\n",
    "# Preprocessing the Test set\n",
    "test_datagen = ImageDataGenerator(rescale = 1./255)\n",
    "test_set = test_datagen.flow_from_directory('C:\\\\Users\\\\DELL\\\\Desktop\\\\Internship\\\\Image Scraping and Classification Project\\\\testsc',\n",
    "                                            target_size = (64, 64),\n",
    "                                            batch_size = 32,\n",
    "                                            class_mode = 'categorical')"
   ]
  },
  {
   "cell_type": "code",
   "execution_count": 6,
   "id": "5ab06732",
   "metadata": {},
   "outputs": [],
   "source": [
    "from tensorflow.keras.layers import Conv2D\n",
    "from tensorflow.keras.layers import Dense"
   ]
  },
  {
   "cell_type": "code",
   "execution_count": 7,
   "id": "4a30c2d8",
   "metadata": {},
   "outputs": [],
   "source": [
    "from tensorflow.keras.regularizers import l2"
   ]
  },
  {
   "cell_type": "code",
   "execution_count": 8,
   "id": "440762a5",
   "metadata": {},
   "outputs": [],
   "source": [
    "# Part 2 - Building the CNN\n",
    "# Initialising the CNN\n",
    "cnn = tf.keras.models.Sequential()\n",
    "\n",
    "# Step 1 - Convolution\n",
    "cnn.add(tf.keras.layers.Conv2D(filters=32,padding=\"same\",kernel_size=3, activation='relu', strides=2, input_shape=[64, 64, 3]))\n",
    "\n",
    "# Step 2 - Pooling\n",
    "cnn.add(tf.keras.layers.MaxPool2D(pool_size=2, strides=2))\n",
    "\n",
    "# Adding a second convolutional layer\n",
    "cnn.add(tf.keras.layers.Conv2D(filters=32,padding='same',kernel_size=3, activation='relu'))\n",
    "cnn.add(tf.keras.layers.MaxPool2D(pool_size=2, strides=2))\n",
    "\n",
    "# Step 3 - Flattening\n",
    "cnn.add(tf.keras.layers.Flatten())\n",
    "\n",
    "# Step 4 - Full Connection\n",
    "cnn.add(tf.keras.layers.Dense(units=128, activation='relu'))\n",
    "\n",
    "\n",
    "## for mulitclassification Output layer\n",
    "cnn.add(Dense(3, kernel_regularizer=tf.keras.regularizers.l2(0.01),activation\n",
    "             ='softmax'))"
   ]
  },
  {
   "cell_type": "code",
   "execution_count": 9,
   "id": "89779bd6",
   "metadata": {},
   "outputs": [
    {
     "name": "stdout",
     "output_type": "stream",
     "text": [
      "Model: \"sequential\"\n",
      "_________________________________________________________________\n",
      "Layer (type)                 Output Shape              Param #   \n",
      "=================================================================\n",
      "conv2d (Conv2D)              (None, 32, 32, 32)        896       \n",
      "_________________________________________________________________\n",
      "max_pooling2d (MaxPooling2D) (None, 16, 16, 32)        0         \n",
      "_________________________________________________________________\n",
      "conv2d_1 (Conv2D)            (None, 16, 16, 32)        9248      \n",
      "_________________________________________________________________\n",
      "max_pooling2d_1 (MaxPooling2 (None, 8, 8, 32)          0         \n",
      "_________________________________________________________________\n",
      "flatten (Flatten)            (None, 2048)              0         \n",
      "_________________________________________________________________\n",
      "dense (Dense)                (None, 128)               262272    \n",
      "_________________________________________________________________\n",
      "dense_1 (Dense)              (None, 3)                 387       \n",
      "=================================================================\n",
      "Total params: 272,803\n",
      "Trainable params: 272,803\n",
      "Non-trainable params: 0\n",
      "_________________________________________________________________\n"
     ]
    }
   ],
   "source": [
    "cnn.summary()"
   ]
  },
  {
   "cell_type": "code",
   "execution_count": 10,
   "id": "737bdc32",
   "metadata": {},
   "outputs": [
    {
     "name": "stdout",
     "output_type": "stream",
     "text": [
      "Epoch 1/20\n",
      "23/23 [==============================] - 5s 218ms/step - loss: 0.9549 - accuracy: 0.5651 - val_loss: 0.5689 - val_accuracy: 0.7978\n",
      "Epoch 2/20\n",
      "23/23 [==============================] - 4s 187ms/step - loss: 0.5557 - accuracy: 0.7825 - val_loss: 0.4157 - val_accuracy: 0.8596\n",
      "Epoch 3/20\n",
      "23/23 [==============================] - 4s 168ms/step - loss: 0.4612 - accuracy: 0.8366 - val_loss: 0.3567 - val_accuracy: 0.8652\n",
      "Epoch 4/20\n",
      "23/23 [==============================] - 4s 188ms/step - loss: 0.4317 - accuracy: 0.8241 - val_loss: 0.4078 - val_accuracy: 0.8708\n",
      "Epoch 5/20\n",
      "23/23 [==============================] - 4s 185ms/step - loss: 0.4089 - accuracy: 0.8421 - val_loss: 0.3354 - val_accuracy: 0.8764\n",
      "Epoch 6/20\n",
      "23/23 [==============================] - 4s 186ms/step - loss: 0.3727 - accuracy: 0.8560 - val_loss: 0.2987 - val_accuracy: 0.8933\n",
      "Epoch 7/20\n",
      "23/23 [==============================] - 4s 171ms/step - loss: 0.3333 - accuracy: 0.8698 - val_loss: 0.2832 - val_accuracy: 0.8876\n",
      "Epoch 8/20\n",
      "23/23 [==============================] - 4s 183ms/step - loss: 0.3319 - accuracy: 0.8712 - val_loss: 0.2717 - val_accuracy: 0.8989\n",
      "Epoch 9/20\n",
      "23/23 [==============================] - 4s 195ms/step - loss: 0.3199 - accuracy: 0.8837 - val_loss: 0.2910 - val_accuracy: 0.8764\n",
      "Epoch 10/20\n",
      "23/23 [==============================] - 4s 174ms/step - loss: 0.3012 - accuracy: 0.8906 - val_loss: 0.2549 - val_accuracy: 0.9045\n",
      "Epoch 11/20\n",
      "23/23 [==============================] - 4s 195ms/step - loss: 0.2783 - accuracy: 0.8947 - val_loss: 0.2145 - val_accuracy: 0.9213\n",
      "Epoch 12/20\n",
      "23/23 [==============================] - 4s 195ms/step - loss: 0.2582 - accuracy: 0.9017 - val_loss: 0.2010 - val_accuracy: 0.9270\n",
      "Epoch 13/20\n",
      "23/23 [==============================] - 4s 191ms/step - loss: 0.2833 - accuracy: 0.8906 - val_loss: 0.2104 - val_accuracy: 0.9213\n",
      "Epoch 14/20\n",
      "23/23 [==============================] - 4s 174ms/step - loss: 0.2545 - accuracy: 0.9100 - val_loss: 0.2062 - val_accuracy: 0.9157\n",
      "Epoch 15/20\n",
      "23/23 [==============================] - 4s 195ms/step - loss: 0.2508 - accuracy: 0.9017 - val_loss: 0.1805 - val_accuracy: 0.9382\n",
      "Epoch 16/20\n",
      "23/23 [==============================] - 4s 192ms/step - loss: 0.2415 - accuracy: 0.9058 - val_loss: 0.1883 - val_accuracy: 0.9326\n",
      "Epoch 17/20\n",
      "23/23 [==============================] - 4s 185ms/step - loss: 0.2463 - accuracy: 0.9044 - val_loss: 0.2232 - val_accuracy: 0.8876\n",
      "Epoch 18/20\n",
      "23/23 [==============================] - 4s 193ms/step - loss: 0.2408 - accuracy: 0.9114 - val_loss: 0.1608 - val_accuracy: 0.9326\n",
      "Epoch 19/20\n",
      "23/23 [==============================] - 5s 198ms/step - loss: 0.2099 - accuracy: 0.9211 - val_loss: 0.1661 - val_accuracy: 0.9382\n",
      "Epoch 20/20\n",
      "23/23 [==============================] - 5s 196ms/step - loss: 0.2049 - accuracy: 0.9266 - val_loss: 0.1728 - val_accuracy: 0.9438\n"
     ]
    }
   ],
   "source": [
    "# Part 3 - Training the CNN\n",
    "\n",
    "# Compiling the CNN\n",
    "cnn.compile(optimizer = 'adam', loss = 'categorical_crossentropy', metrics = ['accuracy'])\n",
    "\n",
    "# Training the CNN on the Training set and evaluating it on the Test set\n",
    "r=cnn.fit(x = training_set, validation_data = test_set, epochs = 20)"
   ]
  },
  {
   "cell_type": "code",
   "execution_count": 11,
   "id": "e74ccf6d",
   "metadata": {},
   "outputs": [
    {
     "data": {
      "image/png": "[encoded data removed]",
      "text/plain": [
       "<Figure size 432x288 with 1 Axes>"
      ]
     },
     "metadata": {
      "needs_background": "light"
     },
     "output_type": "display_data"
    },
    {
     "data": {
      "image/png": "[encoded data removed]",
      "text/plain": [
       "<Figure size 432x288 with 1 Axes>"
      ]
     },
     "metadata": {
      "needs_background": "light"
     },
     "output_type": "display_data"
    },
    {
     "data": {
      "text/plain": [
       "<Figure size 432x288 with 0 Axes>"
      ]
     },
     "metadata": {},
     "output_type": "display_data"
    }
   ],
   "source": [
    "# plot the loss\n",
    "import matplotlib.pyplot as plt\n",
    "plt.plot(r.history['loss'], label='train loss')\n",
    "plt.plot(r.history['val_loss'], label='val loss')\n",
    "plt.legend()\n",
    "plt.show()\n",
    "plt.savefig('LossVal_loss')\n",
    "\n",
    "# plot the accuracy\n",
    "plt.plot(r.history['accuracy'], label='train acc')\n",
    "plt.plot(r.history['val_accuracy'], label='val acc')\n",
    "plt.legend()\n",
    "plt.show()\n",
    "plt.savefig('AccVal_acc')"
   ]
  },
  {
   "cell_type": "code",
   "execution_count": 12,
   "id": "d8af559e",
   "metadata": {},
   "outputs": [],
   "source": [
    "# save it as a h5 file\n",
    "\n",
    "\n",
    "from tensorflow.keras.models import load_model\n",
    "\n",
    "cnn.save('model_3class.h5')"
   ]
  },
  {
   "cell_type": "code",
   "execution_count": 13,
   "id": "d41879dd",
   "metadata": {},
   "outputs": [],
   "source": [
    "from tensorflow.keras.models import load_model\n",
    "\n",
    "# load model\n",
    "model = load_model('model_3class.h5')"
   ]
  },
  {
   "cell_type": "code",
   "execution_count": 14,
   "id": "85e0e7d5",
   "metadata": {},
   "outputs": [
    {
     "name": "stdout",
     "output_type": "stream",
     "text": [
      "Model: \"sequential\"\n",
      "_________________________________________________________________\n",
      "Layer (type)                 Output Shape              Param #   \n",
      "=================================================================\n",
      "conv2d (Conv2D)              (None, 32, 32, 32)        896       \n",
      "_________________________________________________________________\n",
      "max_pooling2d (MaxPooling2D) (None, 16, 16, 32)        0         \n",
      "_________________________________________________________________\n",
      "conv2d_1 (Conv2D)            (None, 16, 16, 32)        9248      \n",
      "_________________________________________________________________\n",
      "max_pooling2d_1 (MaxPooling2 (None, 8, 8, 32)          0         \n",
      "_________________________________________________________________\n",
      "flatten (Flatten)            (None, 2048)              0         \n",
      "_________________________________________________________________\n",
      "dense (Dense)                (None, 128)               262272    \n",
      "_________________________________________________________________\n",
      "dense_1 (Dense)              (None, 3)                 387       \n",
      "=================================================================\n",
      "Total params: 272,803\n",
      "Trainable params: 272,803\n",
      "Non-trainable params: 0\n",
      "_________________________________________________________________\n"
     ]
    }
   ],
   "source": [
    "model.summary()"
   ]
  },
  {
   "cell_type": "code",
   "execution_count": 15,
   "id": "d385c2c7",
   "metadata": {},
   "outputs": [],
   "source": [
    "# Part 4 - Making a single prediction\n",
    "\n",
    "import numpy as np\n",
    "from tensorflow.keras.preprocessing import image\n",
    "test_image = image.load_img('C:\\\\Users\\\\DELL\\\\Desktop\\\\Internship\\\\Image Scraping and Classification Project\\\\testsc\\\\saree\\\\s231.jpg'\n",
    "                            ,target_size = (64,64))\n",
    "test_image = image.img_to_array(test_image)\n",
    "test_image=test_image/255\n",
    "test_image = np.expand_dims(test_image, axis = 0)\n",
    "result = cnn.predict(test_image)"
   ]
  },
  {
   "cell_type": "code",
   "execution_count": 16,
   "id": "277ef031",
   "metadata": {},
   "outputs": [
    {
     "data": {
      "text/plain": [
       "[0.03563995659351349, 0.9413325786590576, 0.02302739769220352]"
      ]
     },
     "execution_count": 16,
     "metadata": {},
     "output_type": "execute_result"
    }
   ],
   "source": [
    "result=result.tolist()[0]\n",
    "result"
   ]
  },
  {
   "cell_type": "code",
   "execution_count": 17,
   "id": "4af7235f",
   "metadata": {},
   "outputs": [
    {
     "name": "stdout",
     "output_type": "stream",
     "text": [
      "the image classified is saree\n"
     ]
    }
   ],
   "source": [
    "if result.index(max(result))==0:\n",
    "    print('the image classified is jeans')\n",
    "elif result.index(max(result))==1:\n",
    "    print('the image classified is saree')\n",
    "else:\n",
    "    print('the image classified is trouser')"
   ]
  }
 ],
 "metadata": {
  "kernelspec": {
   "display_name": "Python 3",
   "language": "python",
   "name": "python3"
  },
  "language_info": {
   "codemirror_mode": {
    "name": "ipython",
    "version": 3
   },
   "file_extension": ".py",
   "mimetype": "text/x-python",
   "name": "python",
   "nbconvert_exporter": "python",
   "pygments_lexer": "ipython3",
   "version": "3.8.8"
  }
 },
 "nbformat": 4,
 "nbformat_minor": 5
}
