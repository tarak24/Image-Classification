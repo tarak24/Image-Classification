{
 "cells": [
  {
   "cell_type": "markdown",
   "id": "cb526f52",
   "metadata": {},
   "source": [
    "## Importing Necessary Libraries"
   ]
  },
  {
   "cell_type": "code",
   "execution_count": 1,
   "id": "cd9b57ab",
   "metadata": {},
   "outputs": [],
   "source": [
    "import pandas as pd\n",
    "import selenium \n",
    "from selenium import webdriver\n",
    "import time\n",
    "from selenium.webdriver.common.keys import Keys\n",
    "import re\n",
    "import os\n",
    "import requests"
   ]
  },
  {
   "cell_type": "code",
   "execution_count": 2,
   "id": "c9f304fd",
   "metadata": {},
   "outputs": [
    {
     "name": "stderr",
     "output_type": "stream",
     "text": [
      "<ipython-input-2-0af43046ad15>:1: DeprecationWarning: executable_path has been deprecated, please pass in a Service object\n",
      "  driver=webdriver.Chrome(r\"C:\\Users\\DELL\\Downloads\\chromedriver.exe\")\n"
     ]
    }
   ],
   "source": [
    "driver=webdriver.Chrome(r\"C:\\Users\\DELL\\Downloads\\chromedriver.exe\")"
   ]
  },
  {
   "cell_type": "markdown",
   "id": "dc654437",
   "metadata": {},
   "source": [
    "### Scraping of Sarees"
   ]
  },
  {
   "cell_type": "code",
   "execution_count": 3,
   "id": "60b1ab33",
   "metadata": {},
   "outputs": [],
   "source": [
    "#Fetching Amazon website\n",
    "driver.get(\"https://www.amazon.in\")"
   ]
  },
  {
   "cell_type": "code",
   "execution_count": 4,
   "id": "85063978",
   "metadata": {},
   "outputs": [
    {
     "name": "stderr",
     "output_type": "stream",
     "text": [
      "<ipython-input-4-1079f2ad5b37>:2: DeprecationWarning: find_element_by_* commands are deprecated. Please use find_element() instead\n",
      "  search = driver.find_element_by_xpath(\"//input[@class = 'nav-input nav-progressive-attribute']\")\n"
     ]
    },
    {
     "name": "stdout",
     "output_type": "stream",
     "text": [
      "saree\n"
     ]
    }
   ],
   "source": [
    "## User Input Search Bar\n",
    "search = driver.find_element_by_xpath(\"//input[@class = 'nav-input nav-progressive-attribute']\")\n",
    "search.send_keys(input())"
   ]
  },
  {
   "cell_type": "code",
   "execution_count": 5,
   "id": "7a214eb8",
   "metadata": {},
   "outputs": [
    {
     "name": "stderr",
     "output_type": "stream",
     "text": [
      "<ipython-input-5-92c708c2c3bc>:2: DeprecationWarning: find_element_by_* commands are deprecated. Please use find_element() instead\n",
      "  btn = driver.find_element_by_xpath(\"//div[@class='nav-right']\")\n"
     ]
    }
   ],
   "source": [
    "# Hitting the Search button\n",
    "btn = driver.find_element_by_xpath(\"//div[@class='nav-right']\")\n",
    "btn.click()"
   ]
  },
  {
   "cell_type": "code",
   "execution_count": 6,
   "id": "5de22dbf",
   "metadata": {},
   "outputs": [],
   "source": [
    "value = 0\n",
    "for i in range(20): \n",
    "    driver.execute_script('scrollBy(\"+ str(value) +\",+100);')\n",
    "    value += 100\n",
    "    time.sleep(4)"
   ]
  },
  {
   "cell_type": "code",
   "execution_count": 7,
   "id": "f5138b63",
   "metadata": {},
   "outputs": [
    {
     "name": "stderr",
     "output_type": "stream",
     "text": [
      "<ipython-input-7-cf47644d7d0a>:3: DeprecationWarning: find_elements_by_* commands are deprecated. Please use find_elements() instead\n",
      "  lk = driver.find_elements_by_xpath(\"//a[@class='a-link-normal s-no-outline']\")\n"
     ]
    }
   ],
   "source": [
    "url = []\n",
    "\n",
    "lk = driver.find_elements_by_xpath(\"//a[@class='a-link-normal s-no-outline']\")\n",
    "for i in lk:\n",
    "    url.append(i.get_attribute('href'))"
   ]
  },
  {
   "cell_type": "code",
   "execution_count": 8,
   "id": "41a41a4c",
   "metadata": {},
   "outputs": [
    {
     "name": "stderr",
     "output_type": "stream",
     "text": [
      "<ipython-input-8-33bf614123d8>:5: DeprecationWarning: find_elements_by_* commands are deprecated. Please use find_elements() instead\n",
      "  data = driver.find_elements_by_xpath('//img[@class=\"s-image\"]')\n"
     ]
    }
   ],
   "source": [
    "urls = []\n",
    "data = []\n",
    "    \n",
    "for i in url:\n",
    "    data = driver.find_elements_by_xpath('//img[@class=\"s-image\"]')\n",
    "    for img in data:\n",
    "        source = img.get_attribute('src')\n",
    "        if source is not None:\n",
    "            if(source[0:5] == 'https'):\n",
    "                urls.append(source)\n",
    "    \n",
    "for i in range(len(urls)):\n",
    "    if i >=300:\n",
    "        break   \n",
    "    response= requests.get(urls[i])\n",
    "    file = open(r\"C:\\\\Users\\\\DELL\\\\Desktop\\\\Internship\\\\Image Scraping and Classification Project\\\\scrapsaree\\\\s\"+str(i)+\".jpg\", \"wb\")\n",
    "    file.write(response.content)"
   ]
  },
  {
   "cell_type": "markdown",
   "id": "254aec41",
   "metadata": {},
   "source": [
    "### Scraping of Jeans"
   ]
  },
  {
   "cell_type": "code",
   "execution_count": 9,
   "id": "50ed47d5",
   "metadata": {},
   "outputs": [
    {
     "name": "stderr",
     "output_type": "stream",
     "text": [
      "<ipython-input-9-68a470bb4253>:4: DeprecationWarning: find_element_by_* commands are deprecated. Please use find_element() instead\n",
      "  search = driver.find_element_by_xpath(\"//input[@class = 'nav-input nav-progressive-attribute']\")\n"
     ]
    },
    {
     "name": "stdout",
     "output_type": "stream",
     "text": [
      "jeans\n"
     ]
    },
    {
     "name": "stderr",
     "output_type": "stream",
     "text": [
      "<ipython-input-9-68a470bb4253>:8: DeprecationWarning: find_element_by_* commands are deprecated. Please use find_element() instead\n",
      "  btn = driver.find_element_by_xpath(\"//div[@class='nav-right']\")\n"
     ]
    }
   ],
   "source": [
    "driver.get(\"https://www.amazon.in\")\n",
    "\n",
    "## User Input Search Bar\n",
    "search = driver.find_element_by_xpath(\"//input[@class = 'nav-input nav-progressive-attribute']\")\n",
    "search.send_keys(input())\n",
    "\n",
    "# Hitting the Search button\n",
    "btn = driver.find_element_by_xpath(\"//div[@class='nav-right']\")\n",
    "btn.click()"
   ]
  },
  {
   "cell_type": "code",
   "execution_count": 10,
   "id": "a4dd7a43",
   "metadata": {},
   "outputs": [
    {
     "name": "stderr",
     "output_type": "stream",
     "text": [
      "<ipython-input-10-bbd6b67b8f11>:9: DeprecationWarning: find_elements_by_* commands are deprecated. Please use find_elements() instead\n",
      "  lk = driver.find_elements_by_xpath(\"//a[@class='a-link-normal s-no-outline']\")\n"
     ]
    }
   ],
   "source": [
    "value = 0\n",
    "for i in range(20): \n",
    "    driver.execute_script('scrollBy(\"+ str(value) +\",+100);')\n",
    "    value += 100\n",
    "    time.sleep(4)\n",
    "    \n",
    "url = []\n",
    "\n",
    "lk = driver.find_elements_by_xpath(\"//a[@class='a-link-normal s-no-outline']\")\n",
    "for i in lk:\n",
    "    url.append(i.get_attribute('href'))"
   ]
  },
  {
   "cell_type": "code",
   "execution_count": 11,
   "id": "53556a5d",
   "metadata": {},
   "outputs": [
    {
     "name": "stderr",
     "output_type": "stream",
     "text": [
      "<ipython-input-11-cfc020951fb3>:5: DeprecationWarning: find_elements_by_* commands are deprecated. Please use find_elements() instead\n",
      "  data = driver.find_elements_by_xpath('//img[@class=\"s-image\"]')\n"
     ]
    }
   ],
   "source": [
    "urls = []\n",
    "data = []\n",
    "    \n",
    "for i in url:\n",
    "    data = driver.find_elements_by_xpath('//img[@class=\"s-image\"]')\n",
    "    for img in data:\n",
    "        source = img.get_attribute('src')\n",
    "        if source is not None:\n",
    "            if(source[0:5] == 'https'):\n",
    "                urls.append(source)\n",
    "                \n",
    "for i in range(len(urls)):\n",
    "    if i >=300:\n",
    "        break   \n",
    "    response= requests.get(urls[i])\n",
    "    file = open(r\"C:\\\\Users\\\\DELL\\\\Desktop\\\\Internship\\\\Image Scraping and Classification Project\\\\scrapjeans\\\\j\"+str(i)+\".jpg\", \"wb\")\n",
    "    file.write(response.content)"
   ]
  },
  {
   "cell_type": "markdown",
   "id": "e695a8b8",
   "metadata": {},
   "source": [
    "### Scraping of Trousers"
   ]
  },
  {
   "cell_type": "code",
   "execution_count": 12,
   "id": "c5cb74b7",
   "metadata": {},
   "outputs": [
    {
     "name": "stderr",
     "output_type": "stream",
     "text": [
      "<ipython-input-12-68a470bb4253>:4: DeprecationWarning: find_element_by_* commands are deprecated. Please use find_element() instead\n",
      "  search = driver.find_element_by_xpath(\"//input[@class = 'nav-input nav-progressive-attribute']\")\n"
     ]
    },
    {
     "name": "stdout",
     "output_type": "stream",
     "text": [
      "trousers\n"
     ]
    },
    {
     "name": "stderr",
     "output_type": "stream",
     "text": [
      "<ipython-input-12-68a470bb4253>:8: DeprecationWarning: find_element_by_* commands are deprecated. Please use find_element() instead\n",
      "  btn = driver.find_element_by_xpath(\"//div[@class='nav-right']\")\n"
     ]
    }
   ],
   "source": [
    "driver.get(\"https://www.amazon.in\")\n",
    "\n",
    "## User Input Search Bar\n",
    "search = driver.find_element_by_xpath(\"//input[@class = 'nav-input nav-progressive-attribute']\")\n",
    "search.send_keys(input())\n",
    "\n",
    "# Hitting the Search button\n",
    "btn = driver.find_element_by_xpath(\"//div[@class='nav-right']\")\n",
    "btn.click()"
   ]
  },
  {
   "cell_type": "code",
   "execution_count": 13,
   "id": "34c4cd0d",
   "metadata": {},
   "outputs": [
    {
     "name": "stderr",
     "output_type": "stream",
     "text": [
      "<ipython-input-13-bbd6b67b8f11>:9: DeprecationWarning: find_elements_by_* commands are deprecated. Please use find_elements() instead\n",
      "  lk = driver.find_elements_by_xpath(\"//a[@class='a-link-normal s-no-outline']\")\n"
     ]
    }
   ],
   "source": [
    "value = 0\n",
    "for i in range(20): \n",
    "    driver.execute_script('scrollBy(\"+ str(value) +\",+100);')\n",
    "    value += 100\n",
    "    time.sleep(4)\n",
    "    \n",
    "url = []\n",
    "\n",
    "lk = driver.find_elements_by_xpath(\"//a[@class='a-link-normal s-no-outline']\")\n",
    "for i in lk:\n",
    "    url.append(i.get_attribute('href'))"
   ]
  },
  {
   "cell_type": "code",
   "execution_count": 14,
   "id": "ae0a9fd4",
   "metadata": {},
   "outputs": [
    {
     "name": "stderr",
     "output_type": "stream",
     "text": [
      "<ipython-input-14-29eaa7f702a7>:5: DeprecationWarning: find_elements_by_* commands are deprecated. Please use find_elements() instead\n",
      "  data = driver.find_elements_by_xpath('//img[@class=\"s-image\"]')\n"
     ]
    }
   ],
   "source": [
    "urls = []\n",
    "data = []\n",
    "    \n",
    "for i in url:\n",
    "    data = driver.find_elements_by_xpath('//img[@class=\"s-image\"]')\n",
    "    for img in data:\n",
    "        source = img.get_attribute('src')\n",
    "        if source is not None:\n",
    "            if(source[0:5] == 'https'):\n",
    "                urls.append(source)\n",
    "                \n",
    "for i in range(len(urls)):\n",
    "    if i >=300:\n",
    "        break   \n",
    "    response= requests.get(urls[i])\n",
    "    file = open(r\"C:\\\\Users\\\\DELL\\\\Desktop\\\\Internship\\\\Image Scraping and Classification Project\\\\scraptrouser\\\\t\"+str(i)+\".jpg\", \"wb\")\n",
    "    file.write(response.content)"
   ]
  }
 ],
 "metadata": {
  "kernelspec": {
   "display_name": "Python 3",
   "language": "python",
   "name": "python3"
  },
  "language_info": {
   "codemirror_mode": {
    "name": "ipython",
    "version": 3
   },
   "file_extension": ".py",
   "mimetype": "text/x-python",
   "name": "python",
   "nbconvert_exporter": "python",
   "pygments_lexer": "ipython3",
   "version": "3.8.8"
  }
 },
 "nbformat": 4,
 "nbformat_minor": 5
}
